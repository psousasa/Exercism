{
 "cells": [
  {
   "cell_type": "code",
   "execution_count": 1,
   "metadata": {},
   "outputs": [],
   "source": [
    "import json"
   ]
  },
  {
   "cell_type": "code",
   "execution_count": 2,
   "metadata": {},
   "outputs": [],
   "source": [
    "from rest_api import RestAPI"
   ]
  },
  {
   "cell_type": "code",
   "execution_count": 3,
   "metadata": {},
   "outputs": [],
   "source": [
    "database = {\n",
    "\"users\": [\n",
    "{\"name\": \"Adam\", \"owes\": {\"Bob\": 3.0}, \"owed_by\": {}, \"balance\": -3.0},\n",
    "{\"name\": \"Bob\", \"owes\": {}, \"owed_by\": {\"Adam\": 3.0}, \"balance\": 3.0},\n",
    "]\n",
    "}\n",
    "api = RestAPI(database)\n",
    "payload = json.dumps({\"lender\": \"Adam\", \"borrower\": \"Bob\", \"amount\": 4.0})\n",
    "response = api.post(\"/iou\", payload)\n",
    "expected = {\n",
    "\"users\": [\n",
    "{\"name\": \"Adam\", \"owes\": {}, \"owed_by\": {\"Bob\": 1.0}, \"balance\": 1.0},\n",
    "{\"name\": \"Bob\", \"owes\": {\"Adam\": 1.0}, \"owed_by\": {}, \"balance\": -1.0},\n",
    "]\n",
    "}"
   ]
  },
  {
   "cell_type": "code",
   "execution_count": 5,
   "metadata": {},
   "outputs": [
    {
     "data": {
      "text/plain": [
       "True"
      ]
     },
     "execution_count": 5,
     "metadata": {},
     "output_type": "execute_result"
    }
   ],
   "source": [
    "json.loads(response) == expected"
   ]
  }
 ],
 "metadata": {
  "kernelspec": {
   "display_name": "Python 3",
   "language": "python",
   "name": "python3"
  },
  "language_info": {
   "codemirror_mode": {
    "name": "ipython",
    "version": 3
   },
   "file_extension": ".py",
   "mimetype": "text/x-python",
   "name": "python",
   "nbconvert_exporter": "python",
   "pygments_lexer": "ipython3",
   "version": "3.7.3"
  }
 },
 "nbformat": 4,
 "nbformat_minor": 2
}
